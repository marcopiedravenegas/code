{
 "cells": [
  {
   "cell_type": "code",
   "execution_count": 24,
   "id": "143bcf65",
   "metadata": {},
   "outputs": [
    {
     "name": "stdout",
     "output_type": "stream",
     "text": [
      "SSdtIGtpbGxpbmcgeW91ciBicmFpbiBsaWtlIGEgcG9pc29ub3VzIG11c2hyb29t\n",
      "\n"
     ]
    }
   ],
   "source": [
    "# Challenge 01\n",
    "import base64\n",
    "input_string = \"49276d206b696c6c696e6720796f757220627261696e206c696b65206120706f69736f6e6f7573206d757368726f6f6d\"\n",
    "input_buffer = bytes.fromhex(input_string)\n",
    "base64_string = base64.encodebytes(hex_string).decode()\n",
    "print(base64_string)"
   ]
  },
  {
   "cell_type": "code",
   "execution_count": 31,
   "id": "258e8f27",
   "metadata": {},
   "outputs": [
    {
     "name": "stdout",
     "output_type": "stream",
     "text": [
      "the kid don't play\n"
     ]
    }
   ],
   "source": [
    "# Challenge 02\n",
    "input_string_1 = \"1c0111001f010100061a024b53535009181c\"\n",
    "input_buffer_1 = bytes.fromhex(input_string_1)\n",
    "input_string_2 = \"686974207468652062756c6c277320657965\"\n",
    "input_buffer_2 = bytes.fromhex(input_string_2)\n",
    "xor_string = bytes(b1 ^ b2 for b1, b2 in zip(input_buffer_1, input_buffer_2)).decode()\n",
    "print(xor_string)"
   ]
  },
  {
   "cell_type": "code",
   "execution_count": null,
   "id": "e8f5d103",
   "metadata": {},
   "outputs": [],
   "source": [
    "# Challenge 03\n",
    "input_string = \"1b37373331363f78151b7f2b783431333d78397828372d363c78373e783a393b3736\"\n"
   ]
  }
 ],
 "metadata": {
  "kernelspec": {
   "display_name": "Python 3 (ipykernel)",
   "language": "python",
   "name": "python3"
  },
  "language_info": {
   "codemirror_mode": {
    "name": "ipython",
    "version": 3
   },
   "file_extension": ".py",
   "mimetype": "text/x-python",
   "name": "python",
   "nbconvert_exporter": "python",
   "pygments_lexer": "ipython3",
   "version": "3.11.2"
  }
 },
 "nbformat": 4,
 "nbformat_minor": 5
}
